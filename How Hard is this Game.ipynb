{
 "cells": [
  {
   "cell_type": "code",
   "execution_count": 1,
   "metadata": {},
   "outputs": [
    {
     "name": "stdout",
     "output_type": "stream",
     "text": [
      "\n",
      "    Downloading en_core_web_sm-1.2.0/en_core_web_sm-1.2.0.tar.gz\n",
      "\n",
      "Collecting https://github.com/explosion/spacy-models/releases/download/en_core_web_sm-1.2.0/en_core_web_sm-1.2.0.tar.gz\n",
      "  Downloading https://github.com/explosion/spacy-models/releases/download/en_core_web_sm-1.2.0/en_core_web_sm-1.2.0.tar.gz (52.2MB)\n",
      "\u001b[K    100% |████████████████████████████████| 52.2MB 75.9MB/s ta 0:00:011 2% |▉                               | 1.4MB 3.0MB/s eta 0:00:17\n",
      "\u001b[?25hRequirement already satisfied: spacy<2.0.0,>=1.7.0 in /srv/app/venv/lib/python3.6/site-packages (from en-core-web-sm==1.2.0)\n",
      "Requirement already satisfied: numpy>=1.7 in /srv/app/venv/lib/python3.6/site-packages (from spacy<2.0.0,>=1.7.0->en-core-web-sm==1.2.0)\n",
      "Requirement already satisfied: murmurhash<0.27,>=0.26 in /srv/app/venv/lib/python3.6/site-packages (from spacy<2.0.0,>=1.7.0->en-core-web-sm==1.2.0)\n",
      "Requirement already satisfied: cymem<1.32,>=1.30 in /srv/app/venv/lib/python3.6/site-packages (from spacy<2.0.0,>=1.7.0->en-core-web-sm==1.2.0)\n",
      "Requirement already satisfied: preshed<2.0.0,>=1.0.0 in /srv/app/venv/lib/python3.6/site-packages (from spacy<2.0.0,>=1.7.0->en-core-web-sm==1.2.0)\n",
      "Requirement already satisfied: thinc<6.6.0,>=6.5.0 in /srv/app/venv/lib/python3.6/site-packages (from spacy<2.0.0,>=1.7.0->en-core-web-sm==1.2.0)\n",
      "Requirement already satisfied: plac<1.0.0,>=0.9.6 in /srv/app/venv/lib/python3.6/site-packages (from spacy<2.0.0,>=1.7.0->en-core-web-sm==1.2.0)\n",
      "Requirement already satisfied: pip<10.0.0,>=9.0.0 in /srv/app/venv/lib/python3.6/site-packages (from spacy<2.0.0,>=1.7.0->en-core-web-sm==1.2.0)\n",
      "Requirement already satisfied: six in /srv/app/venv/lib/python3.6/site-packages (from spacy<2.0.0,>=1.7.0->en-core-web-sm==1.2.0)\n",
      "Requirement already satisfied: pathlib in /srv/app/venv/lib/python3.6/site-packages (from spacy<2.0.0,>=1.7.0->en-core-web-sm==1.2.0)\n",
      "Requirement already satisfied: ujson>=1.35 in /srv/app/venv/lib/python3.6/site-packages (from spacy<2.0.0,>=1.7.0->en-core-web-sm==1.2.0)\n",
      "Requirement already satisfied: dill<0.3,>=0.2 in /srv/app/venv/lib/python3.6/site-packages (from spacy<2.0.0,>=1.7.0->en-core-web-sm==1.2.0)\n",
      "Collecting requests<3.0.0,>=2.13.0 (from spacy<2.0.0,>=1.7.0->en-core-web-sm==1.2.0)\n",
      "  Downloading requests-2.18.4-py2.py3-none-any.whl (88kB)\n",
      "\u001b[K    100% |████████████████████████████████| 92kB 10.4MB/s a 0:00:011\n",
      "\u001b[?25hRequirement already satisfied: regex<2017.12.1,>=2017.4.1 in /srv/app/venv/lib/python3.6/site-packages (from spacy<2.0.0,>=1.7.0->en-core-web-sm==1.2.0)\n",
      "Requirement already satisfied: ftfy<5.0.0,>=4.4.2 in /srv/app/venv/lib/python3.6/site-packages (from spacy<2.0.0,>=1.7.0->en-core-web-sm==1.2.0)\n",
      "Requirement already satisfied: wrapt in /srv/app/venv/lib/python3.6/site-packages (from thinc<6.6.0,>=6.5.0->spacy<2.0.0,>=1.7.0->en-core-web-sm==1.2.0)\n",
      "Requirement already satisfied: tqdm<5.0.0,>=4.10.0 in /srv/app/venv/lib/python3.6/site-packages (from thinc<6.6.0,>=6.5.0->spacy<2.0.0,>=1.7.0->en-core-web-sm==1.2.0)\n",
      "Requirement already satisfied: cytoolz<0.9,>=0.8 in /srv/app/venv/lib/python3.6/site-packages (from thinc<6.6.0,>=6.5.0->spacy<2.0.0,>=1.7.0->en-core-web-sm==1.2.0)\n",
      "Requirement already satisfied: termcolor in /srv/app/venv/lib/python3.6/site-packages (from thinc<6.6.0,>=6.5.0->spacy<2.0.0,>=1.7.0->en-core-web-sm==1.2.0)\n",
      "Requirement already satisfied: urllib3<1.23,>=1.21.1 in /srv/app/venv/lib/python3.6/site-packages (from requests<3.0.0,>=2.13.0->spacy<2.0.0,>=1.7.0->en-core-web-sm==1.2.0)\n",
      "Requirement already satisfied: chardet<3.1.0,>=3.0.2 in /srv/app/venv/lib/python3.6/site-packages (from requests<3.0.0,>=2.13.0->spacy<2.0.0,>=1.7.0->en-core-web-sm==1.2.0)\n",
      "Requirement already satisfied: idna<2.7,>=2.5 in /srv/app/venv/lib/python3.6/site-packages (from requests<3.0.0,>=2.13.0->spacy<2.0.0,>=1.7.0->en-core-web-sm==1.2.0)\n",
      "Requirement already satisfied: certifi>=2017.4.17 in /srv/app/venv/lib/python3.6/site-packages (from requests<3.0.0,>=2.13.0->spacy<2.0.0,>=1.7.0->en-core-web-sm==1.2.0)\n",
      "Requirement already satisfied: html5lib in /srv/app/venv/lib/python3.6/site-packages (from ftfy<5.0.0,>=4.4.2->spacy<2.0.0,>=1.7.0->en-core-web-sm==1.2.0)\n",
      "Requirement already satisfied: wcwidth in /srv/app/venv/lib/python3.6/site-packages (from ftfy<5.0.0,>=4.4.2->spacy<2.0.0,>=1.7.0->en-core-web-sm==1.2.0)\n",
      "Requirement already satisfied: toolz>=0.8.0 in /srv/app/venv/lib/python3.6/site-packages (from cytoolz<0.9,>=0.8->thinc<6.6.0,>=6.5.0->spacy<2.0.0,>=1.7.0->en-core-web-sm==1.2.0)\n",
      "Requirement already satisfied: webencodings in /srv/app/venv/lib/python3.6/site-packages (from html5lib->ftfy<5.0.0,>=4.4.2->spacy<2.0.0,>=1.7.0->en-core-web-sm==1.2.0)\n",
      "Requirement already satisfied: setuptools>=18.5 in /srv/app/venv/lib/python3.6/site-packages (from html5lib->ftfy<5.0.0,>=4.4.2->spacy<2.0.0,>=1.7.0->en-core-web-sm==1.2.0)\n",
      "Installing collected packages: en-core-web-sm, requests\n",
      "  Running setup.py install for en-core-web-sm ... \u001b[?25ldone\n",
      "\u001b[?25h  Found existing installation: requests 2.12.4\n",
      "    Uninstalling requests-2.12.4:\n",
      "      Successfully uninstalled requests-2.12.4\n",
      "Successfully installed en-core-web-sm-1.2.0 requests-2.18.4\n",
      "\n",
      "\u001b[93m    Linking successful\u001b[0m\n",
      "\n",
      "    /srv/app/venv/lib/python3.6/site-packages/en_core_web_sm/en_core_web_sm-1.2.0\n",
      "    --> /srv/app/venv/lib/python3.6/site-packages/spacy/data/en\n",
      "\n",
      "    You can now load the model via spacy.load('en').\n",
      "\n"
     ]
    }
   ],
   "source": [
    "!python -m spacy download en"
   ]
  },
  {
   "cell_type": "code",
   "execution_count": 65,
   "metadata": {},
   "outputs": [],
   "source": [
    "from datascience import *\n",
    "import numpy as np\n",
    "from sklearn.pipeline import Pipeline\n",
    "from sklearn.feature_extraction.text import TfidfVectorizer, CountVectorizer, TfidfTransformer\n",
    "from sklearn.model_selection import cross_val_score, train_test_split, KFold\n",
    "from sklearn.utils import shuffle\n",
    "import spacy\n",
    "from sklearn.linear_model import SGDClassifier\n",
    "from sklearn import metrics\n",
    "from matplotlib import *\n",
    "%matplotlib inline"
   ]
  },
  {
   "cell_type": "code",
   "execution_count": 3,
   "metadata": {},
   "outputs": [],
   "source": [
    "nlp = spacy.load('en', parser=False)"
   ]
  },
  {
   "cell_type": "markdown",
   "metadata": {},
   "source": [
    "# Importing the Tables\n",
    "\n",
    "First, we need to import the tables we'll be using. The first table, labeled **game_data**, was obtained from the webside *boardgamecapital.com*. The second table, labeled **rio_data**, was obtained from Rio Grande Games. We'll combine the two tables into game_data, this will be our primary data table."
   ]
  },
  {
   "cell_type": "code",
   "execution_count": 4,
   "metadata": {},
   "outputs": [
    {
     "data": {
      "text/html": [
       "<table border=\"1\" class=\"dataframe\">\n",
       "    <thead>\n",
       "        <tr>\n",
       "            <th>Title</th> <th>Text</th> <th>Price</th> <th>Time</th> <th>Age</th> <th>Players</th> <th>Max Players</th> <th>Max Age</th>\n",
       "        </tr>\n",
       "    </thead>\n",
       "    <tbody>\n",
       "        <tr>\n",
       "            <td>10 Days in the USA Rules</td> <td> \r\n",
       "\r\n",
       " \r\n",
       "\r\n",
       " \r\n",
       "\r\n",
       "¢ 2-4 Players\r\n",
       "* Ages 10 to Adult\r\n",
       "¢ 20-3 ...</td> <td>13   </td> <td>30 min      </td> <td>8+  </td> <td>2 - 4  </td> <td>0          </td> <td>0      </td>\n",
       "        </tr>\n",
       "    </tbody>\n",
       "        <tr>\n",
       "            <td>13 Dead End Drive Rules </td> <td> \r\n",
       "\r\n",
       ".Assembly\r\n",
       "\r\n",
       "For all assembly instructions>see the  ...</td> <td>25   </td> <td>30 - 45 min.</td> <td>10+ </td> <td>2 - 4  </td> <td>0          </td> <td>0      </td>\n",
       "        </tr>\n",
       "    </tbody>\n",
       "        <tr>\n",
       "            <td>20 Questions Rules      </td> <td>20 Questions Game« Instructions\r\n",
       "\r\n",
       "Contents\r\n",
       "\r\n",
       "e 20 Ques ...</td> <td>25   </td> <td>30 min.     </td> <td>8+  </td> <td>3-4    </td> <td>0          </td> <td>0      </td>\n",
       "        </tr>\n",
       "    </tbody>\n",
       "        <tr>\n",
       "            <td>20th Century            </td> <td> \r\n",
       "\r\n",
       "   \r\n",
       "\r\n",
       "fi\r\n",
       "\r\n",
       "In the 20th Century, every region stri ...</td> <td>59.95</td> <td>0           </td> <td>12+ </td> <td>3-5    </td> <td>0          </td> <td>0      </td>\n",
       "        </tr>\n",
       "    </tbody>\n",
       "        <tr>\n",
       "            <td>30 Seconds Rules        </td> <td>rules US.qxd 9/29/08 2:52 PM Page 1\r\n",
       "\r\n",
       " \r\n",
       "\r\n",
       "thinking fas ...</td> <td>17   </td> <td>30 min.     </td> <td>12+ </td> <td>3 - 16 </td> <td>0          </td> <td>0      </td>\n",
       "        </tr>\n",
       "    </tbody>\n",
       "</table>\n",
       "<p>... (432 rows omitted)</p"
      ],
      "text/plain": [
       "<IPython.core.display.HTML object>"
      ]
     },
     "metadata": {},
     "output_type": "display_data"
    }
   ],
   "source": [
    "game_data = Table.read_table('board-game-capital-text.csv').select('title', 'rules_text','price', 'time', 'age', 'players').relabeled(['age', 'rules_text','time', 'title', 'price', 'players'], ['Age', 'Text','Time', 'Title', 'Price', 'Players'])\n",
    "ratings = Table.read_table('game_data_with_bgg.csv').select('Title','avgweight').relabeled('avgweight', 'Complexity')\n",
    "rio_data = Table.read_table('rio-games.csv').select('Title', 'Text','age_range', 'players_range', 'MSRP', 'Length').relabeled(['MSRP', 'Length', 'age_range', 'players_range'], ['Price','Time','Age', 'Players'])\n",
    "rio_data = rio_data.select('Title', 'Text','Price', 'Time', 'Age', 'Players')\n",
    "game_data = game_data.append(rio_data)\n",
    "game_data.append_column('Max Players', 0)\n",
    "game_data.append_column('Max Age', 0)\n",
    "game_data.select('Title', 'Text', 'Time', 'Players', 'Max Players', 'Age', 'Max Age', 'Price')\n",
    "game_data = game_data.group('Title', max).relabeled(['Text max', 'Time max', 'Age max', 'Players max', 'Max Players max', 'Max Age max', 'Price max'], ['Text', 'Time', 'Age', 'Players', 'Max Players', 'Max Age', 'Price'])\n",
    "game_data.show(5)"
   ]
  },
  {
   "cell_type": "code",
   "execution_count": 5,
   "metadata": {},
   "outputs": [
    {
     "data": {
      "text/html": [
       "<table border=\"1\" class=\"dataframe\">\n",
       "    <thead>\n",
       "        <tr>\n",
       "            <th>Title</th> <th>Complexity</th>\n",
       "        </tr>\n",
       "    </thead>\n",
       "    <tbody>\n",
       "        <tr>\n",
       "            <td>Pictionary Rules</td> <td>1.254     </td>\n",
       "        </tr>\n",
       "    </tbody>\n",
       "        <tr>\n",
       "            <td>Pictionary Rules</td> <td>1.254     </td>\n",
       "        </tr>\n",
       "    </tbody>\n",
       "        <tr>\n",
       "            <td>Pictionary Rules</td> <td>1.254     </td>\n",
       "        </tr>\n",
       "    </tbody>\n",
       "        <tr>\n",
       "            <td>Elfenland Rules </td> <td>2.1642    </td>\n",
       "        </tr>\n",
       "    </tbody>\n",
       "        <tr>\n",
       "            <td>Monopoly Rules  </td> <td>1.6816    </td>\n",
       "        </tr>\n",
       "    </tbody>\n",
       "</table>\n",
       "<p>... (530 rows omitted)</p"
      ],
      "text/plain": [
       "<IPython.core.display.HTML object>"
      ]
     },
     "metadata": {},
     "output_type": "display_data"
    }
   ],
   "source": [
    "ratings.show(5)"
   ]
  },
  {
   "cell_type": "markdown",
   "metadata": {},
   "source": [
    "## Reformatting the Cells\n",
    "\n",
    "Next, we need to reformat the cells of this table to have uniform format. We will write several functions to reformat time strings into integers of minutes, and to find the minimum and maximum ages and number of players the game can take. In cases where there is no maximum, we will use the value 99 instead.\n",
    "\n",
    "First, we'll write a function, called **time_formatter**, which will take a string. This function will convert string minute and hour values into integers in minutes. For example, a string \"1 hour\" would return 60."
   ]
  },
  {
   "cell_type": "code",
   "execution_count": 6,
   "metadata": {},
   "outputs": [],
   "source": [
    "#A function to reformat time strings into integers. Measured in minutes.\n",
    "def time_formatter(string):\n",
    "    string = string.replace(\"+\",\"\").replace(\".\",\"\").lower()\n",
    "    if \"-\" in string:\n",
    "        string = string[5:]\n",
    "    if \"min\" in string:\n",
    "        string = string.replace(\"min\",\"\")\n",
    "        string = int(string)\n",
    "        return string\n",
    "    elif \"hours\" or \"hr\" or \"hour\" in string:\n",
    "        string = string.replace(\"hours\",\"\").replace(\"hr\", \"\").replace(\"hour\", \"\")\n",
    "        string = int(string)\n",
    "        return string*60\n",
    "    else:\n",
    "        return int(string)"
   ]
  },
  {
   "cell_type": "markdown",
   "metadata": {},
   "source": [
    "We also have two pieces of data currently expressed as ranges. We will write two functions, **find_min** and **find_max**, to identify the minimum and maximum values of these ranges. If there is no maximum (i.e. age is 13+), we will substitute the value of 99."
   ]
  },
  {
   "cell_type": "code",
   "execution_count": 7,
   "metadata": {},
   "outputs": [],
   "source": [
    "# A function to find the minumum of an interval string.\n",
    "def find_min(string):\n",
    "    string = str(string)\n",
    "    string = string.replace(\"+\",\"\")\n",
    "    if \"-\" in string:\n",
    "        return int(string[0])\n",
    "    else:\n",
    "        return int(string)\n",
    "\n",
    "# A function to find the maximum of an interval string.\n",
    "def find_max(string):\n",
    "    string = str(string)\n",
    "    if \"+\" in string:\n",
    "        return int(99)\n",
    "    elif \"-\" in string:\n",
    "        return int(string[-1])\n",
    "    else:\n",
    "        return int(string)"
   ]
  },
  {
   "cell_type": "markdown",
   "metadata": {},
   "source": [
    "To make best use of the text, we want to verify that we are only using tokens which are actually english words (as opposed to poor OCR expressions, misspellings, bar codes, etc.). "
   ]
  },
  {
   "cell_type": "code",
   "execution_count": 8,
   "metadata": {},
   "outputs": [],
   "source": [
    "#A function to clean up rules text.\n",
    "def clean_up(string):\n",
    "    my_string = \"\"\n",
    "    working_string = nlp(string.strip())\n",
    "    for word in range(len(working_string)):\n",
    "        if (working_string[word].is_alpha) and (working_string[word].is_stop == False):\n",
    "            my_string += str(working_string[word].lower_) + \" \"\n",
    "    return my_string"
   ]
  },
  {
   "cell_type": "markdown",
   "metadata": {},
   "source": [
    "Next, we'll iterate over all of the data in each table to convert the values using the functions we've defined. We'll add these values to empty lists, which will then be added to each table as a column. "
   ]
  },
  {
   "cell_type": "code",
   "execution_count": 9,
   "metadata": {},
   "outputs": [],
   "source": [
    "#Iterate through the data in game_data and reformat in each column.\n",
    "for i in range(game_data.num_rows):\n",
    "    game_data.append([game_data.column('Title').item(i), clean_up(game_data.column('Text').item(i)), \n",
    "                      int(game_data.column('Price').item(i)), time_formatter(game_data.column('Time').item(i)),  \n",
    "                      find_min(game_data.column('Players').item(i)), find_max(game_data.column('Players').item(i)),\n",
    "                      find_min(game_data.column('Age').item(i)), find_max(game_data.column('Age').item(i)) ])\n",
    "game_data = game_data.take[int((game_data.num_rows)/2):]"
   ]
  },
  {
   "cell_type": "code",
   "execution_count": 10,
   "metadata": {},
   "outputs": [],
   "source": [
    "game_data = ratings.join('Title', game_data)\n",
    "game_data = game_data.relabeled(['Age','Players', 'Max Players'], ['Min Players', 'Max Players', 'Min Age'])"
   ]
  },
  {
   "cell_type": "code",
   "execution_count": 11,
   "metadata": {},
   "outputs": [
    {
     "data": {
      "text/html": [
       "<table border=\"1\" class=\"dataframe\">\n",
       "    <thead>\n",
       "        <tr>\n",
       "            <th>Title</th> <th>Complexity</th> <th>Text</th> <th>Price</th> <th>Time</th> <th>Min Players</th> <th>Max Players</th> <th>Min Age</th> <th>Max Age</th>\n",
       "        </tr>\n",
       "    </thead>\n",
       "    <tbody>\n",
       "        <tr>\n",
       "            <td>10 Days in the USA Rules      </td> <td>1.4096    </td> <td>players ages adult minutes game box state tiles tile sta ...</td> <td>13   </td> <td>30  </td> <td>2          </td> <td>4          </td> <td>8      </td> <td>99     </td>\n",
       "        </tr>\n",
       "    </tbody>\n",
       "        <tr>\n",
       "            <td>13 Dead End Drive Rules       </td> <td>1.4091    </td> <td>assembly instructions separate assembly instruction book ...</td> <td>25   </td> <td>45  </td> <td>2          </td> <td>4          </td> <td>10     </td> <td>99     </td>\n",
       "        </tr>\n",
       "    </tbody>\n",
       "        <tr>\n",
       "            <td>20 Questions Rules            </td> <td>1.3396    </td> <td>questions game instructions contents e game cards cards  ...</td> <td>25   </td> <td>30  </td> <td>3          </td> <td>4          </td> <td>8      </td> <td>99     </td>\n",
       "        </tr>\n",
       "    </tbody>\n",
       "        <tr>\n",
       "            <td>20th Century                  </td> <td>2.9612    </td> <td>fi century region strives develop improve way financial  ...</td> <td>59   </td> <td>0   </td> <td>3          </td> <td>5          </td> <td>12     </td> <td>99     </td>\n",
       "        </tr>\n",
       "    </tbody>\n",
       "        <tr>\n",
       "            <td>30 Seconds Rules              </td> <td>1.2222    </td> <td>rules pm page thinking rules game neo description game p ...</td> <td>17   </td> <td>30  </td> <td>3          </td> <td>6          </td> <td>12     </td> <td>99     </td>\n",
       "        </tr>\n",
       "    </tbody>\n",
       "        <tr>\n",
       "            <td>5th Avenue Rules              </td> <td>2         </td> <td>board especially players course players choose play game ...</td> <td>20   </td> <td>60  </td> <td>2          </td> <td>4          </td> <td>12     </td> <td>99     </td>\n",
       "        </tr>\n",
       "    </tbody>\n",
       "        <tr>\n",
       "            <td>A Castle For All Seasons Rules</td> <td>2.7985    </td> <td>g wn s ras contents page contents object game game mater ...</td> <td>45   </td> <td>60  </td> <td>2          </td> <td>4          </td> <td>10     </td> <td>99     </td>\n",
       "        </tr>\n",
       "    </tbody>\n",
       "        <tr>\n",
       "            <td>A Castle for all Seasons      </td> <td>2.7985    </td> <td>g wn s ras contents page contents object game game mater ...</td> <td>54   </td> <td>0   </td> <td>2          </td> <td>4          </td> <td>10     </td> <td>99     </td>\n",
       "        </tr>\n",
       "    </tbody>\n",
       "        <tr>\n",
       "            <td>A Dog's Life Rules            </td> <td>1.8333    </td> <td>dog life game manual players minutes years game christop ...</td> <td>50   </td> <td>40  </td> <td>2          </td> <td>6          </td> <td>6      </td> <td>99     </td>\n",
       "        </tr>\n",
       "    </tbody>\n",
       "        <tr>\n",
       "            <td>A Fool's Fortune              </td> <td>2.5       </td> <td>cards fortunes characters setting stage field stage hand ...</td> <td>19   </td> <td>0   </td> <td>2          </td> <td>0          </td> <td>13     </td> <td>99     </td>\n",
       "        </tr>\n",
       "    </tbody>\n",
       "</table>\n",
       "<p>... (489 rows omitted)</p"
      ],
      "text/plain": [
       "<IPython.core.display.HTML object>"
      ]
     },
     "metadata": {},
     "output_type": "display_data"
    }
   ],
   "source": [
    "game_data = game_data.where('Complexity', are.above(0))\n",
    "game_data.show(10)"
   ]
  },
  {
   "cell_type": "markdown",
   "metadata": {},
   "source": [
    "## Understanding the Variables\n",
    "\n",
    "How might the data we've collected reflect the difficulty of a particular board game?\n",
    "\n",
    "### Price\n",
    "\n",
    "Game prices are often directly related to a variety of factors: number of pieces, quality of original art, intricacy of pieces and board, rarity in production, and length of play. Therefore, a higher price will indicate a more complex game.\n",
    "\n",
    "### Time\n",
    "\n",
    "Longer games are generally more complex. The longer a game takes to play, the more difficult it is to set up and to play through. The issue with this variable is that the games taken from Rio Grande Games did not have explicit time values. Therefore, a higher time value will indicate a more complex game.\n",
    "\n",
    "### Minimum Number of Players\n",
    "\n",
    "Games with lower player minimums are generally more complex (however, there are many exceptions to this). Party games, which require a higher minumum (usually 3-4 players) are less complex than campaign or strategy games, which are usually playable with just 2 players, and sometimes only with one. Therefore, a lower minimum player count will indicate a more complex game.\n",
    "\n",
    "### Maximum Number of Players\n",
    "\n",
    "Games which have higher player maximums are often less complex because they don't require pieces or game components to support large numbers of players. Therefore, a lower player maximum count will indicate a more complex game.\n",
    "\n",
    "### Minimum Age\n",
    "\n",
    "Games with a higher age minimum will generally be considered more complex.\n",
    "\n",
    "### Maximum Age\n",
    "\n",
    "Games with a higher age maximum will generally be considered more complex."
   ]
  },
  {
   "cell_type": "markdown",
   "metadata": {},
   "source": [
    "## Classification\n",
    "\n",
    "We will use the technique of classification to find correlation coefficients for the strength of regression of the text of the instructions on an independent variable, specitically complexity. \n",
    "\n",
    "Using the ratings from Board Game Geek, a popular and respected website for board game information, we will attempt to train the classifier to identify a game as \"easy,\" \"medium,\" or \"hard\" based on the instructions in the text.\n",
    "\n",
    "We need training and testing data to build and test our model. We will randomly assign 50 games to be training data, and the rest will be testing data."
   ]
  },
  {
   "cell_type": "code",
   "execution_count": 12,
   "metadata": {},
   "outputs": [],
   "source": [
    "text_clf = Pipeline([('vect', CountVectorizer()),\n",
    "                    ('tfidf', TfidfTransformer()),\n",
    "                    ('clf', SGDClassifier(loss='hinge', penalty='l2', alpha=1e-3, random_state=42, max_iter=5, tol=None))])"
   ]
  },
  {
   "cell_type": "code",
   "execution_count": 13,
   "metadata": {},
   "outputs": [],
   "source": [
    "def numToWords(num,join=True):\n",
    "    if int(num) == 3600:\n",
    "        num = 360\n",
    "    '''words = {} convert an integer number into words'''\n",
    "    num = int(num)\n",
    "    units = ['','one','two','three','four','five','six','seven','eight','nine']\n",
    "    teens = ['ten','eleven','twelve','thirteen','fourteen','fifteen','sixteen', \\\n",
    "             'seventeen','eighteen','nineteen']\n",
    "    tens = ['','ten','twenty','thirty','forty','fifty','sixty','seventy', \\\n",
    "            'eighty','ninety']\n",
    "    if num==0:\n",
    "        return 'zero'\n",
    "    if num<100:\n",
    "        if num<10:\n",
    "            return units[num]\n",
    "        elif num<20:\n",
    "            return teens[num-10]\n",
    "        else:\n",
    "            u = num % 10\n",
    "            t = (num-u)/10\n",
    "            str = tens[int(t)] + \"-\" + units[int(u)]\n",
    "            return str\n",
    "    else:\n",
    "        tens = num % 100\n",
    "        h = (num-tens)/100\n",
    "        return units[int(h)] + \"-hundred \" + numToWords(tens)"
   ]
  },
  {
   "cell_type": "code",
   "execution_count": 14,
   "metadata": {},
   "outputs": [],
   "source": [
    "meta_strings = []\n",
    "for i in range(game_data.num_rows):\n",
    "    player_range = \"for \" + numToWords(game_data['Min Players'][i]) + \" to \" + numToWords(game_data['Max Players'][i]) + \" players\"\n",
    "    age_range = \"for ages \" + numToWords(game_data['Min Age'][i]) + \" to \" + numToWords(game_data['Max Age'][i])\n",
    "    price_classification = \"this game costs \" + numToWords(game_data['Price'][i]) + \" dollars\"\n",
    "    time = \"this game takes \" + numToWords(game_data['Time'][i]) + \" minutes to play\"\n",
    "    meta_strings.append(player_range + \"  \" + age_range + \"  \" + price_classification + \"   \" + time)"
   ]
  },
  {
   "cell_type": "code",
   "execution_count": 15,
   "metadata": {},
   "outputs": [],
   "source": [
    "for i in range(game_data.num_rows):\n",
    "    game_data['Text'][i] = game_data['Text'][i] + meta_strings[i]"
   ]
  },
  {
   "cell_type": "code",
   "execution_count": 16,
   "metadata": {},
   "outputs": [],
   "source": [
    "np.random.seed(10)\n",
    "text_train = game_data.split(300)[0] #Split the data \n",
    "text_train_data = text_train['Text'] #text entries in the training set\n",
    "text_train_target_price = text_train['Price']\n",
    "text_train_target_complexity = text_train['Complexity']"
   ]
  },
  {
   "cell_type": "markdown",
   "metadata": {},
   "source": [
    "We'll write some classifier functions to take the numerical values of price and complexity and convert them to bin classifications."
   ]
  },
  {
   "cell_type": "code",
   "execution_count": 17,
   "metadata": {},
   "outputs": [],
   "source": [
    "def price_classifier(value):\n",
    "    if value < 20:\n",
    "        return \"cheap\"\n",
    "    elif value < 30:\n",
    "        return \"affordable\"\n",
    "    elif value < 40:\n",
    "        return \"pricey\"\n",
    "    else:\n",
    "        return \"expensive\"\n",
    "        \n",
    "def complexity_classifier(value):\n",
    "    if value < 2:\n",
    "        return \"easy\"\n",
    "    elif value < 3:\n",
    "        return \"medium\"\n",
    "    else:\n",
    "        return \"hard\""
   ]
  },
  {
   "cell_type": "code",
   "execution_count": 18,
   "metadata": {},
   "outputs": [],
   "source": [
    "text_train_target_price = [price_classifier(value) for value in text_train_target_price]\n",
    "text_train_target_complexity = [complexity_classifier(value) for value in text_train_target_complexity]"
   ]
  },
  {
   "cell_type": "code",
   "execution_count": 19,
   "metadata": {},
   "outputs": [],
   "source": [
    "text_test = game_data.split(300)[1]\n",
    "text_test_titles = text_test['Title']\n",
    "text_test_data = text_test['Text']\n",
    "text_test_target_price = text_test['Price']\n",
    "text_test_target_complexity = text_test['Complexity']"
   ]
  },
  {
   "cell_type": "code",
   "execution_count": 20,
   "metadata": {},
   "outputs": [],
   "source": [
    "text_test_target_price = [price_classifier(value) for value in text_test_target_price]\n",
    "text_test_target_complexity = [complexity_classifier(value) for value in text_test_target_complexity]"
   ]
  },
  {
   "cell_type": "code",
   "execution_count": 21,
   "metadata": {},
   "outputs": [
    {
     "data": {
      "text/plain": [
       "0.78894472361809043"
      ]
     },
     "execution_count": 21,
     "metadata": {},
     "output_type": "execute_result"
    }
   ],
   "source": [
    "text_clf.fit(text_train_data, text_train_target_price)\n",
    "predicted = text_clf.predict(text_test_data)\n",
    "np.mean(predicted == text_test_target_price)"
   ]
  },
  {
   "cell_type": "code",
   "execution_count": 22,
   "metadata": {},
   "outputs": [
    {
     "name": "stdout",
     "output_type": "stream",
     "text": [
      "             precision    recall  f1-score   support\n",
      "\n",
      "      cheap       0.85      0.81      0.83        69\n",
      " affordable       0.76      0.83      0.80        42\n",
      "     pricey       0.69      0.85      0.77        48\n",
      "  expensive       0.89      0.62      0.74        40\n",
      "\n",
      "avg / total       0.80      0.79      0.79       199\n",
      "\n"
     ]
    }
   ],
   "source": [
    "print(metrics.classification_report(text_test_target_price, predicted, target_names=[\"cheap\", \"affordable\", \"pricey\", \"expensive\"]\n",
    "                                ))"
   ]
  },
  {
   "cell_type": "markdown",
   "metadata": {},
   "source": [
    "Precision: out of all the games that were classified as cheap, 85% were actually cheap.\n",
    "Recall: out of all of the cheap games, 81% were classified as cheap."
   ]
  },
  {
   "cell_type": "code",
   "execution_count": 23,
   "metadata": {},
   "outputs": [
    {
     "data": {
      "text/plain": [
       "0.89447236180904521"
      ]
     },
     "execution_count": 23,
     "metadata": {},
     "output_type": "execute_result"
    }
   ],
   "source": [
    "text_clf.fit(text_train_data, text_train_target_complexity)\n",
    "predicted = text_clf.predict(text_test_data)\n",
    "np.mean(predicted == text_test_target_complexity)"
   ]
  },
  {
   "cell_type": "code",
   "execution_count": 24,
   "metadata": {},
   "outputs": [
    {
     "name": "stdout",
     "output_type": "stream",
     "text": [
      "             precision    recall  f1-score   support\n",
      "\n",
      "       easy       0.92      0.93      0.93       121\n",
      "     medium       0.86      0.82      0.84        22\n",
      "       hard       0.85      0.84      0.85        56\n",
      "\n",
      "avg / total       0.89      0.89      0.89       199\n",
      "\n"
     ]
    }
   ],
   "source": [
    "print(metrics.classification_report(text_test_target_complexity, predicted, target_names=[\"easy\", \"medium\", \"hard\"]\n",
    "                                ))"
   ]
  },
  {
   "cell_type": "markdown",
   "metadata": {},
   "source": [
    "## K Fold Cross Validation\n",
    "\n",
    "Although we've successfully trained a model to predict price with 80% accuracy and difficulty with 86% accuracy, we will validate these results using K Fold Cross Validation.\n",
    "\n",
    "According to K Fold cross validation, our model successfully predicts price about 64% of the time, and successfully predicts complexity about 77% of the time."
   ]
  },
  {
   "cell_type": "code",
   "execution_count": 25,
   "metadata": {},
   "outputs": [
    {
     "name": "stdout",
     "output_type": "stream",
     "text": [
      "[0.55200000000000005, 0.56000000000000005, 0.63200000000000001, 0.62096774193548387] 0.591241935484\n"
     ]
    }
   ],
   "source": [
    "X, y = shuffle(game_data['Text'], [price_classifier(game_data['Price'][game]) for game in range(game_data.num_rows)], random_state=0)\n",
    "kf = KFold(n_splits=4, random_state=1)\n",
    "scores = []\n",
    "for train_index, test_index in kf.split(X):\n",
    "    X_train, X_test = [], []\n",
    "    y_train, y_test = [], []\n",
    "    for index in train_index:\n",
    "        X_train.append(X[index])\n",
    "        y_train.append(y[index])\n",
    "    for index in test_index:\n",
    "        X_test.append(X[index])\n",
    "        y_test.append(y[index])\n",
    "    text_clf.fit(X_train, y_train)\n",
    "    predicted = text_clf.predict(X_test)\n",
    "    scores.append(np.mean(predicted == y_test))\n",
    "print(scores, np.mean(scores))"
   ]
  },
  {
   "cell_type": "code",
   "execution_count": 26,
   "metadata": {},
   "outputs": [
    {
     "name": "stdout",
     "output_type": "stream",
     "text": [
      "[0.74399999999999999, 0.81599999999999995, 0.70399999999999996, 0.782258064516129] 0.761564516129\n"
     ]
    }
   ],
   "source": [
    "X, y = shuffle(game_data['Text'], [complexity_classifier(game_data['Complexity'][game]) for game in range(game_data.num_rows)], random_state=0)\n",
    "kf = KFold(n_splits=4, random_state=1)\n",
    "scores = []\n",
    "for train_index, test_index in kf.split(X):\n",
    "    X_train, X_test = [], []\n",
    "    y_train, y_test = [], []\n",
    "    for index in train_index:\n",
    "        X_train.append(X[index])\n",
    "        y_train.append(y[index])\n",
    "    for index in test_index:\n",
    "        X_test.append(X[index])\n",
    "        y_test.append(y[index])\n",
    "    text_clf.fit(X_train, y_train)\n",
    "    predicted = text_clf.predict(X_test)\n",
    "    scores.append(np.mean(predicted == y_test))\n",
    "print(scores, np.mean(scores))"
   ]
  },
  {
   "cell_type": "markdown",
   "metadata": {},
   "source": [
    "# Visualizations"
   ]
  },
  {
   "cell_type": "code",
   "execution_count": 92,
   "metadata": {},
   "outputs": [
    {
     "data": {
      "text/plain": [
       "<matplotlib.text.Text at 0x7f2158e7d0b8>"
      ]
     },
     "execution_count": 92,
     "metadata": {},
     "output_type": "execute_result"
    },
    {
     "data": {
      "image/png": "[encoded data removed]",
      "text/plain": [
       "<matplotlib.figure.Figure at 0x7f2158f11828>"
      ]
     },
     "metadata": {},
     "output_type": "display_data"
    }
   ],
   "source": [
    "n, bins, patches = pyplot.hist(game_data['Complexity'], bins=np.arange(1,6, 0.5), color='#e1ffc3', edgecolor='#000000')\n",
    "pyplot.xlabel('Complexities')\n",
    "pyplot.ylabel('Count')\n",
    "pyplot.title('Histogram of Complexities')"
   ]
  },
  {
   "cell_type": "code",
   "execution_count": 85,
   "metadata": {},
   "outputs": [
    {
     "data": {
      "text/plain": [
       "<matplotlib.text.Text at 0x7f21594e9470>"
      ]
     },
     "execution_count": 85,
     "metadata": {},
     "output_type": "execute_result"
    },
    {
     "data": {
      "image/png": "[encoded data removed]",
      "text/plain": [
       "<matplotlib.figure.Figure at 0x7f21593598d0>"
      ]
     },
     "metadata": {},
     "output_type": "display_data"
    }
   ],
   "source": [
    "n, bins, patches = pyplot.hist(game_data['Price'], bins=[0,15,30,45,60,75,90,105,120], color='#e1ffc3', edgecolor='#000000')\n",
    "pyplot.xlabel('Prices')\n",
    "pyplot.ylabel('Count')\n",
    "pyplot.title('Histogram of Prices')"
   ]
  },
  {
   "cell_type": "code",
   "execution_count": null,
   "metadata": {},
   "outputs": [],
   "source": []
  },
  {
   "cell_type": "code",
   "execution_count": null,
   "metadata": {},
   "outputs": [],
   "source": []
  }
 ],
 "metadata": {
  "kernelspec": {
   "display_name": "Python 3",
   "language": "python",
   "name": "python3"
  },
  "language_info": {
   "codemirror_mode": {
    "name": "ipython",
    "version": 3
   },
   "file_extension": ".py",
   "mimetype": "text/x-python",
   "name": "python",
   "nbconvert_exporter": "python",
   "pygments_lexer": "ipython3",
   "version": "3.6.1"
  }
 },
 "nbformat": 4,
 "nbformat_minor": 2
}
